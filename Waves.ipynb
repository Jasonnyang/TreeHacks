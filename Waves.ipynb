{
  "nbformat": 4,
  "nbformat_minor": 0,
  "metadata": {
    "colab": {
      "provenance": []
    },
    "kernelspec": {
      "name": "python3",
      "display_name": "Python 3"
    },
    "language_info": {
      "name": "python"
    }
  },
  "cells": [
    {
      "cell_type": "code",
      "execution_count": null,
      "metadata": {
        "id": "d1XhzSHdRyhm"
      },
      "outputs": [],
      "source": [
        "import numpy as np\n",
        "import pandas as pd\n",
        "import scipy\n",
        "\n",
        "from scipy.signal import butter, filtfilt\n",
        "from sklearn.model_selection import train_test_split\n",
        "from sklearn.ensemble import RandomForestClassifier\n",
        "from sklearn.metrics import accuracy_score"
      ]
    },
    {
      "cell_type": "code",
      "source": [
        "df = pd.read_csv('data.csv')"
      ],
      "metadata": {
        "id": "_65cnY_3R7WU"
      },
      "execution_count": null,
      "outputs": []
    },
    {
      "cell_type": "code",
      "source": [
        "#Filter\n",
        "\n",
        "def butter_lowpass(cutoff, fs, order=5):\n",
        "    nyq = 0.5 * fs  # Nyquist Frequency\n",
        "    normal_cutoff = cutoff / nyq\n",
        "    b, a = butter(order, normal_cutoff, btype='low', analog=False)\n",
        "    return b, a\n",
        "\n",
        "def butter_lowpass_filter(data, cutoff, fs, order=5):\n",
        "    b, a = butter_lowpass(cutoff, fs, order=order)\n",
        "    y = filtfilt(b, a, data)\n",
        "    return y\n"
      ],
      "metadata": {
        "id": "0YsjHeqSSJoH"
      },
      "execution_count": null,
      "outputs": []
    },
    {
      "cell_type": "code",
      "source": [
        "# Parameters\n",
        "fs = 256.0       # Sampling frequency of Muse 2, typically 256 Hz\n",
        "cutoff = 30.0    # Desired cutoff frequency of the high-cut filter in Hz\n",
        "\n",
        "#Decide on your cutoff frequency based on your analysis needs and the Nyquist criterion.\n",
        "#The Nyquist frequency is half the sampling rate of your data, and your cutoff should be below this value.\n",
        "\n",
        "# Apply the filter to each channel\n",
        "data = df.values\n",
        "filtered_data = np.zeros_like(data)  # Initialize an array to hold the filtered data\n",
        "\n",
        "for i in range(data.shape[1]):  # Assuming data.shape[1] is the number of channels\n",
        "    filtered_data[:, i] = butter_lowpass_filter(data[:, i], cutoff, fs, order=5)"
      ],
      "metadata": {
        "id": "Se-g_JeQS1mK"
      },
      "execution_count": null,
      "outputs": []
    },
    {
      "cell_type": "code",
      "source": [
        "features = data[:, :5]  # All rows, first 5 columns for features\n",
        "labels = data[:, 5]     # All rows, 6th column for labels\n",
        "\n",
        "# Assume features and labels are prepared arrays from your EEG data\n",
        "X_train, X_test, y_train, y_test = train_test_split(features, labels, test_size=0.2, random_state=42)\n",
        "\n",
        "# Initialize the model\n",
        "model = RandomForestClassifier(n_estimators=100)\n",
        "\n",
        "# Train the model\n",
        "model.fit(X_train, y_train)\n",
        "\n",
        "# Predict on the test set\n",
        "y_pred = model.predict(X_test)\n",
        "\n",
        "# Evaluate the model\n",
        "accuracy = accuracy_score(y_test, y_pred)\n",
        "print(f\"Model accuracy: {accuracy:.2f}\")\n"
      ],
      "metadata": {
        "id": "mu1ZQyucTn2_"
      },
      "execution_count": null,
      "outputs": []
    }
  ]
}